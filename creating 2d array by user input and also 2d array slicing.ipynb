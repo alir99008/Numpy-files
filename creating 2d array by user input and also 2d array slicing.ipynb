{
 "cells": [
  {
   "cell_type": "code",
   "execution_count": 6,
   "id": "cfe475da",
   "metadata": {},
   "outputs": [
    {
     "name": "stdout",
     "output_type": "stream",
     "text": [
      "Enter the value for input = 4\n",
      "Enter the value for input = 3\n",
      "Enter the value for input = 6\n",
      "Enter the value for input = 3\n",
      "Enter the value for input = 7\n",
      "Enter the value for input = 3\n",
      "Enter the value for input = 4\n",
      "Enter the value for input = 7\n",
      "Enter the value for input = 4\n",
      "4 3 6 \n",
      "3 7 3 \n",
      "4 7 4 \n",
      "type of the matrix is =  <class 'list'>\n"
     ]
    }
   ],
   "source": [
    "import numpy as np\n",
    "matrix=[]\n",
    "for i in range(3):\n",
    "    a=[]\n",
    "    for j in range(3):\n",
    "        \n",
    "        value = int(input(\"Enter the value for input = \"))\n",
    "        a.append(value)\n",
    "    matrix.append(a)\n",
    "arr = np.array(matrix)    \n",
    "for i in range(3):\n",
    "    for j in range(3):\n",
    "        print(matrix[i][j],end=\" \")\n",
    "    print()\n",
    "print(\"type of the matrix is = \",type(arr))    "
   ]
  },
  {
   "cell_type": "code",
   "execution_count": 7,
   "id": "77b41d6b",
   "metadata": {},
   "outputs": [
    {
     "name": "stdout",
     "output_type": "stream",
     "text": [
      "3 5 7 \n",
      "1 7 3 \n",
      "8 3 8 \n",
      "type of the matrix is =  <class 'numpy.ndarray'>\n"
     ]
    }
   ],
   "source": [
    "matrix=[[3,5,7],[1,7,3],[8,3,8]]\n",
    "arr = np.array(matrix)\n",
    "for i in range(3):\n",
    "    for j in range(3):\n",
    "        print(matrix[i][j],end=\" \")\n",
    "    print()\n",
    "print(\"type of the matrix is = \",type(arr))"
   ]
  },
  {
   "cell_type": "code",
   "execution_count": 13,
   "id": "12d36bda",
   "metadata": {},
   "outputs": [
    {
     "name": "stdout",
     "output_type": "stream",
     "text": [
      "[[7 3]\n",
      " [3 8]]\n",
      "[[3 5]\n",
      " [1 7]]\n",
      "type of the matrix is =  <class 'numpy.ndarray'>\n"
     ]
    }
   ],
   "source": [
    "\n",
    "# This is for slicing in 2d array\n",
    "\n",
    "matrix=[[3,5,7],[1,7,3],[8,3,8]]\n",
    "arr = np.array(matrix)\n",
    "print(arr[1: , 1:])\n",
    "print(arr[0:2 , 0:2])\n",
    "print(\"type of the matrix is = \",type(arr))"
   ]
  },
  {
   "cell_type": "code",
   "execution_count": 15,
   "id": "7252d9c7",
   "metadata": {},
   "outputs": [
    {
     "name": "stdout",
     "output_type": "stream",
     "text": [
      "ahmed\n"
     ]
    }
   ],
   "source": [
    "a=10\n",
    "if a>15:\n",
    "    print(\"ali\")\n",
    "else:\n",
    "    print(\"ahmed\")"
   ]
  },
  {
   "cell_type": "code",
   "execution_count": null,
   "id": "2e5bffec",
   "metadata": {},
   "outputs": [],
   "source": []
  }
 ],
 "metadata": {
  "kernelspec": {
   "display_name": "Python 3 (ipykernel)",
   "language": "python",
   "name": "python3"
  },
  "language_info": {
   "codemirror_mode": {
    "name": "ipython",
    "version": 3
   },
   "file_extension": ".py",
   "mimetype": "text/x-python",
   "name": "python",
   "nbconvert_exporter": "python",
   "pygments_lexer": "ipython3",
   "version": "3.9.7"
  }
 },
 "nbformat": 4,
 "nbformat_minor": 5
}
