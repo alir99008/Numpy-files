{
 "cells": [
  {
   "cell_type": "code",
   "execution_count": 2,
   "id": "7ae8d5bf",
   "metadata": {},
   "outputs": [
    {
     "name": "stdout",
     "output_type": "stream",
     "text": [
      "Total array is =  [6 5 6 9 6 9 1 6 1 7]\n",
      "String Slicing array is =  [6 9 6]\n"
     ]
    }
   ],
   "source": [
    "import numpy as np\n",
    "a=[]\n",
    "for i in range(10):\n",
    "    a.append(np.random.randint(1,10)\n",
    "             \n",
    "print(\"Total array is = \",myarray)\n",
    "print(\"String Slicing array is = \",myarray[2:5])"
   ]
  },
  {
   "cell_type": "code",
   "execution_count": 9,
   "id": "1558b762",
   "metadata": {},
   "outputs": [
    {
     "name": "stdout",
     "output_type": "stream",
     "text": [
      "THe reshaping array is = \n",
      " [[5 6 1 4 2]\n",
      " [4 9 2 5 4]]\n",
      "THe reshaping array is = \n",
      " [[5 6]\n",
      " [1 4]\n",
      " [2 4]\n",
      " [9 2]\n",
      " [5 4]]\n"
     ]
    }
   ],
   "source": [
    "import numpy as np\n",
    "a=[]\n",
    "for i in range(10):\n",
    "    a.append(np.random.randint(1,10))\n",
    "    \n",
    "myarray=np.array(a)\n",
    "\n",
    "\n",
    "myarray = myarray.reshape(2,5)\n",
    "print(\"THe reshaping array is = \\n\",myarray)\n",
    "myarray = myarray.reshape(5,2)\n",
    "print(\"THe reshaping array is = \\n\",myarray)"
   ]
  },
  {
   "cell_type": "code",
   "execution_count": null,
   "id": "d944c12a",
   "metadata": {},
   "outputs": [],
   "source": []
  },
  {
   "cell_type": "code",
   "execution_count": null,
   "id": "f59924bb",
   "metadata": {},
   "outputs": [],
   "source": []
  }
 ],
 "metadata": {
  "kernelspec": {
   "display_name": "Python 3 (ipykernel)",
   "language": "python",
   "name": "python3"
  },
  "language_info": {
   "codemirror_mode": {
    "name": "ipython",
    "version": 3
   },
   "file_extension": ".py",
   "mimetype": "text/x-python",
   "name": "python",
   "nbconvert_exporter": "python",
   "pygments_lexer": "ipython3",
   "version": "3.9.7"
  }
 },
 "nbformat": 4,
 "nbformat_minor": 5
}
