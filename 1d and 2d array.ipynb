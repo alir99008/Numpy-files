{
 "cells": [
  {
   "cell_type": "code",
   "execution_count": 6,
   "id": "aad4b376",
   "metadata": {},
   "outputs": [
    {
     "data": {
      "text/plain": [
       "array([0, 1, 2, 3, 4, 5])"
      ]
     },
     "execution_count": 6,
     "metadata": {},
     "output_type": "execute_result"
    }
   ],
   "source": [
    "import numpy as np\n",
    "a=[]\n",
    "for i in range(6):\n",
    "    a.append(i)\n",
    "\n",
    "myarray = np.array(a)\n",
    "myarray"
   ]
  },
  {
   "cell_type": "code",
   "execution_count": 15,
   "id": "a68f55fc",
   "metadata": {},
   "outputs": [
    {
     "name": "stdout",
     "output_type": "stream",
     "text": [
      "6\n",
      "[[1 2 3 4]\n",
      " [5 6 7 8]]\n",
      "shape of array =  (2, 4)\n",
      "Dimension of array is =  2\n"
     ]
    }
   ],
   "source": [
    "import numpy as np\n",
    "a=[[1,2,3,4],[5,6,7,8]]\n",
    "\n",
    "\n",
    "myarray = np.array(a)\n",
    "\n",
    "print(myarray[1][1])\n",
    "print(myarray)\n",
    "print(\"shape of array = \",myarray.shape)\n",
    "print(\"Dimension of array is = \",myarray.ndim)"
   ]
  },
  {
   "cell_type": "code",
   "execution_count": null,
   "id": "68814e9e",
   "metadata": {},
   "outputs": [],
   "source": []
  }
 ],
 "metadata": {
  "kernelspec": {
   "display_name": "Python 3 (ipykernel)",
   "language": "python",
   "name": "python3"
  },
  "language_info": {
   "codemirror_mode": {
    "name": "ipython",
    "version": 3
   },
   "file_extension": ".py",
   "mimetype": "text/x-python",
   "name": "python",
   "nbconvert_exporter": "python",
   "pygments_lexer": "ipython3",
   "version": "3.9.7"
  }
 },
 "nbformat": 4,
 "nbformat_minor": 5
}
