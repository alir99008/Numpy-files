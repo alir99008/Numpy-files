{
 "cells": [
  {
   "cell_type": "code",
   "execution_count": 4,
   "id": "142df0b1",
   "metadata": {},
   "outputs": [
    {
     "name": "stdout",
     "output_type": "stream",
     "text": [
      "one dimensionls array is =  [0. 0. 0. 0.]\n",
      "2 dimensionals array is =  [[0. 0. 0.]\n",
      " [0. 0. 0.]]\n"
     ]
    }
   ],
   "source": [
    "import numpy as np\n",
    "array = np.zeros(4)\n",
    "print(\"one dimensionls array is for all zeros = \",array)\n",
    "\n",
    "array1 = np.zeros((2,3))\n",
    "print(\"2 dimensionals array is for all zeros = \",array1)"
   ]
  },
  {
   "cell_type": "code",
   "execution_count": 7,
   "id": "0c4e00bc",
   "metadata": {},
   "outputs": [
    {
     "name": "stdout",
     "output_type": "stream",
     "text": [
      "one dimensional array for all 1 is  =  [1. 1. 1. 1. 1.]\n",
      "2 dimensional array for all 2 is  =  [[1. 1. 1. 1.]\n",
      " [1. 1. 1. 1.]]\n"
     ]
    }
   ],
   "source": [
    "import numpy as np\n",
    "array1 = np.ones(5)\n",
    "print(\"one dimensional array for all 1 is  = \",array1)\n",
    "\n",
    "array2 = np.ones((2,4))\n",
    "print(\"2 dimensional array for all 2 is  = \",array2)"
   ]
  },
  {
   "cell_type": "code",
   "execution_count": 11,
   "id": "28553e28",
   "metadata": {},
   "outputs": [
    {
     "name": "stdout",
     "output_type": "stream",
     "text": [
      "its create the 5 rows and 5 column matrix with diagonal 1 is  =  [[1. 0. 0. 0. 0.]\n",
      " [0. 1. 0. 0. 0.]\n",
      " [0. 0. 1. 0. 0.]\n",
      " [0. 0. 0. 1. 0.]\n",
      " [0. 0. 0. 0. 1.]]\n",
      "2 dimensional array for 2 rows and 4 column with all diagonal 1 is  = \n",
      " [[1. 0. 0. 0.]\n",
      " [0. 1. 0. 0.]]\n"
     ]
    }
   ],
   "source": [
    "import numpy as np\n",
    "array1 = np.eye(5)\n",
    "print(\"its create the 5 rows and 5 column matrix with diagonal 1 is  = \",array1)\n",
    "\n",
    "array2 = np.eye(2,4)\n",
    "print(\"2 dimensional array for 2 rows and 4 column with all diagonal 1 is  = \\n\",array2)"
   ]
  },
  {
   "cell_type": "code",
   "execution_count": 15,
   "id": "5566d027",
   "metadata": {},
   "outputs": [
    {
     "name": "stdout",
     "output_type": "stream",
     "text": [
      "its create the diagonal of the 4 * 4 with specific values [[5 0 0 0 0]\n",
      " [0 3 0 0 0]\n",
      " [0 0 4 0 0]\n",
      " [0 0 0 5 0]\n",
      " [0 0 0 0 2]]\n"
     ]
    }
   ],
   "source": [
    "import numpy as np\n",
    "array1 = np.diag([5,3,4,5,2])\n",
    "print(\"its create the diagonal of the 4 * 4 with specific values\",array1)"
   ]
  },
  {
   "cell_type": "code",
   "execution_count": 19,
   "id": "40fe80b6",
   "metadata": {},
   "outputs": [
    {
     "name": "stdout",
     "output_type": "stream",
     "text": [
      "its create two random numbers from 5 to 14 [12  7]\n"
     ]
    }
   ],
   "source": [
    "import numpy as np\n",
    "array1 = np.random.randint(5,15,2)\n",
    "print(\"its create two random numbers from 5 to 14\",array1)"
   ]
  },
  {
   "cell_type": "code",
   "execution_count": 20,
   "id": "17c15837",
   "metadata": {},
   "outputs": [
    {
     "name": "stdout",
     "output_type": "stream",
     "text": [
      "its create 5 random numbers from 0 to 1 [0.61513762 0.27149237 0.39388501 0.83170068 0.53908777]\n"
     ]
    }
   ],
   "source": [
    "import numpy as np\n",
    "array1 = np.random.rand(5)\n",
    "print(\"its create 5 random numbers from 0 to 1\",array1) "
   ]
  },
  {
   "cell_type": "code",
   "execution_count": 21,
   "id": "cfec667b",
   "metadata": {},
   "outputs": [
    {
     "name": "stdout",
     "output_type": "stream",
     "text": [
      "its create 5 random numbers from 0 to 1 [0.57707834 0.29175136 0.1562113  0.13022363 0.8110236 ]\n"
     ]
    }
   ],
   "source": [
    "import numpy as np\n",
    "array1 = np.random.rand(5)\n",
    "print(\"its create 5 random numbers from 0 to 1\",array1) "
   ]
  },
  {
   "cell_type": "code",
   "execution_count": 22,
   "id": "080739d1",
   "metadata": {},
   "outputs": [
    {
     "name": "stdout",
     "output_type": "stream",
     "text": [
      "its create 5 random numbers from near to 0  [ 0.97529105 -1.10633573 -2.15475141  1.73949229 -0.60381076]\n"
     ]
    }
   ],
   "source": [
    "import numpy as np\n",
    "array1 = np.random.randn(5)\n",
    "print(\"its create 5 random numbers from near to 0 \",array1)"
   ]
  },
  {
   "cell_type": "code",
   "execution_count": null,
   "id": "619fbd7e",
   "metadata": {},
   "outputs": [],
   "source": []
  }
 ],
 "metadata": {
  "kernelspec": {
   "display_name": "Python 3 (ipykernel)",
   "language": "python",
   "name": "python3"
  },
  "language_info": {
   "codemirror_mode": {
    "name": "ipython",
    "version": 3
   },
   "file_extension": ".py",
   "mimetype": "text/x-python",
   "name": "python",
   "nbconvert_exporter": "python",
   "pygments_lexer": "ipython3",
   "version": "3.9.7"
  }
 },
 "nbformat": 4,
 "nbformat_minor": 5
}
