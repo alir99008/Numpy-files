{
 "cells": [
  {
   "cell_type": "code",
   "execution_count": 9,
   "id": "e53b2f2f",
   "metadata": {},
   "outputs": [
    {
     "name": "stdout",
     "output_type": "stream",
     "text": [
      "maximum of array is =  7\n",
      "minimum of array is =  1\n",
      "index of minimum number of array is =  6\n",
      "square root of number of array is =  [1.         1.41421356 1.73205081 2.         2.23606798 2.44948974\n",
      " 2.64575131]\n",
      "sin of number in array is =  [ 0.84147098  0.90929743  0.14112001 -0.7568025  -0.95892427 -0.2794155\n",
      "  0.6569866 ]\n",
      "the line space is =  [ 1.  4.  7. 10.]\n"
     ]
    }
   ],
   "source": [
    "import numpy as np\n",
    "\n",
    "a = [1,2,3,4,5,6,7]\n",
    "myarray = np.array(a)\n",
    "print(\"maximum of array is = \",np.max(myarray))\n",
    "print(\"minimum of array is = \",np.min(myarray))\n",
    "print(\"index of minimum number of array is = \",np.argmax(myarray))\n",
    "print(\"square root of number of array is = \",np.sqrt(myarray))\n",
    "print(\"sin of number in array is = \",np.sin(myarray))\n",
    "print(\"the line space is = \",np.linspace(1,10,4))  #yeh 1 sy ly kr 10 tk numbers main 4 number generate kry ga jis k gap equal hoga "
   ]
  },
  {
   "cell_type": "code",
   "execution_count": 12,
   "id": "b443f453",
   "metadata": {},
   "outputs": [
    {
     "name": "stdout",
     "output_type": "stream",
     "text": [
      "Enter the number for array = 1\n",
      "Enter the number for array = 2\n",
      "Enter the number for array = 3\n",
      "Enter the number for array = 4\n",
      "Enter the number for array = 5\n",
      "Enter the number for array = 6\n",
      "Enter the number for array = 7\n",
      "Enter the number for array = 8\n",
      "Enter the number for array = 9\n",
      "Enter the number for array = 1\n",
      "Enter the number for array = 2\n",
      "Enter the number for array = 3\n",
      "Enter the number for array = 4\n",
      "Enter the number for array = 5\n",
      "Enter the number for array = 6\n",
      "Enter the number for array = 7\n",
      "1 2 3 4 \n",
      "5 6 7 8 \n",
      "9 1 2 3 \n",
      "4 5 6 7 \n",
      "minimum in 2d array is =  1\n",
      "maximum in 2d array is =  9\n",
      "Sum of 2d array is =  73\n",
      "Row wise maximum in 2d array is =  [4 8 9 7]\n",
      "column wise minimum in 2d array is =  [1 1 2 3]\n",
      "commulative sum of 2d array is =  [ 1  3  6 10 15 21 28 36 45 46 48 51 55 60 66 73]\n"
     ]
    }
   ],
   "source": [
    "\n",
    "\n",
    "matrix=[]\n",
    "for i in range(4):\n",
    "    a=[]\n",
    "    for j in range(4):\n",
    "        value = int(input(\"Enter the number for array = \"))\n",
    "        a.append(value)\n",
    "    matrix.append(a)\n",
    "    \n",
    "arr = np.array(matrix)\n",
    "    \n",
    "for i in range(4):\n",
    " \n",
    "    for j in range(4):\n",
    "        print(arr[i][j],end=\" \")\n",
    "    print()\n",
    "    \n",
    "    \n",
    "print(\"minimum in 2d array is = \",np.min(arr))\n",
    "\n",
    "print(\"maximum in 2d array is = \",np.max(arr))\n",
    "print(\"Sum of 2d array is = \",np.sum(arr))\n",
    "print(\"Row wise maximum in 2d array is = \",np.max(arr , axis = 1))\n",
    "print(\"column wise minimum in 2d array is = \",np.min(arr , axis = 0))\n",
    "print(\"commulative sum of 2d array is = \",np.cumsum(arr))\n"
   ]
  },
  {
   "cell_type": "code",
   "execution_count": 16,
   "id": "062bfa4f",
   "metadata": {},
   "outputs": [
    {
     "name": "stdout",
     "output_type": "stream",
     "text": [
      "The 6 random number from 1 to 10 is =  [5 5 5 7 4 3]\n",
      "The unique number of arr is  [3 4 5 7]\n",
      "THe size of the unique number in arrayy is  4\n",
      "unique number and indexing and duplicate counter in array is  (array([3, 4, 5, 7]), array([5, 4, 0, 3], dtype=int64), array([1, 1, 3, 1], dtype=int64))\n"
     ]
    }
   ],
   "source": [
    "import numpy as np \n",
    "np.random.seed(111)\n",
    "arr = np.random.randint(1,10,6) \n",
    "print(\"The 6 random number from 1 to 10 is = \",arr)\n",
    "print(\"The unique number of arr is \",np.unique(arr))\n",
    "print(\"THe size of the unique number in arrayy is \",np.unique(arr).size)\n",
    "print(\"unique number and indexing and duplicate counter in array is \",np.unique(arr,return_index=True , return_counts=True))"
   ]
  },
  {
   "cell_type": "code",
   "execution_count": null,
   "id": "1a1cb20c",
   "metadata": {},
   "outputs": [],
   "source": []
  }
 ],
 "metadata": {
  "kernelspec": {
   "display_name": "Python 3",
   "language": "python",
   "name": "python3"
  },
  "language_info": {
   "codemirror_mode": {
    "name": "ipython",
    "version": 3
   },
   "file_extension": ".py",
   "mimetype": "text/x-python",
   "name": "python",
   "nbconvert_exporter": "python",
   "pygments_lexer": "ipython3",
   "version": "3.8.8"
  }
 },
 "nbformat": 4,
 "nbformat_minor": 5
}
