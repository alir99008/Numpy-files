{
 "cells": [
  {
   "cell_type": "code",
   "execution_count": 10,
   "id": "ecf87396",
   "metadata": {},
   "outputs": [
    {
     "name": "stdout",
     "output_type": "stream",
     "text": [
      "horizental staking =  [1 2 3 4 5 6 7 8 9 1 2 3]\n",
      "vertical staking = \n",
      " [[1 2 3 4 5 6]\n",
      " [7 8 9 1 2 3]]\n",
      "horizental staking of 2d array = \n",
      " [[1 2 3 4 5 6 3 5 2 6 7 3]\n",
      " [7 8 9 1 2 3 7 8 9 1 2 3]]\n",
      "vertical staking = \n",
      " [[1 2 3 4 5 6]\n",
      " [7 8 9 1 2 3]\n",
      " [3 5 2 6 7 3]\n",
      " [7 8 9 1 2 3]]\n"
     ]
    }
   ],
   "source": [
    "import numpy as np\n",
    "\n",
    "arr = np.array([1,2,3,4,5,6])\n",
    "arr1 = np.array([7,8,9,1,2,3])\n",
    "\n",
    "print(\"horizental staking = \",np.hstack((arr,arr1)))\n",
    "print(\"vertical staking = \\n\",np.vstack((arr,arr1)))\n",
    "\n",
    "\n",
    "matrix = np.array([[1,2,3,4,5,6],[7,8,9,1,2,3]])\n",
    "matrix1 = np.array([[3,5,2,6,7,3],[7,8,9,1,2,3]])\n",
    "print(\"horizental staking of 2d array = \\n\",np.hstack((matrix,matrix1)))\n",
    "print(\"vertical staking = \\n\",np.vstack((matrix,matrix1)))\n"
   ]
  },
  {
   "cell_type": "code",
   "execution_count": null,
   "id": "71fc978a",
   "metadata": {},
   "outputs": [],
   "source": []
  },
  {
   "cell_type": "code",
   "execution_count": null,
   "id": "2f18d56a",
   "metadata": {},
   "outputs": [],
   "source": []
  }
 ],
 "metadata": {
  "kernelspec": {
   "display_name": "Python 3",
   "language": "python",
   "name": "python3"
  },
  "language_info": {
   "codemirror_mode": {
    "name": "ipython",
    "version": 3
   },
   "file_extension": ".py",
   "mimetype": "text/x-python",
   "name": "python",
   "nbconvert_exporter": "python",
   "pygments_lexer": "ipython3",
   "version": "3.8.8"
  }
 },
 "nbformat": 4,
 "nbformat_minor": 5
}
