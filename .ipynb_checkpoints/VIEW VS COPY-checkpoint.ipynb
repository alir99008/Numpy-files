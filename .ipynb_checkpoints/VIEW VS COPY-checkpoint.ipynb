{
 "cells": [
  {
   "cell_type": "code",
   "execution_count": 16,
   "id": "e1d93c42",
   "metadata": {},
   "outputs": [
    {
     "name": "stdout",
     "output_type": "stream",
     "text": [
      "This is view array when we change in array also change in main array = \n",
      " [[3 5 7 7 3]\n",
      " [1 0 0 0 3]\n",
      " [8 0 0 0 3]]\n"
     ]
    }
   ],
   "source": [
    "import numpy as np\n",
    "matrix=[[3,5,7,7,3],[1,7,3,5,3],[8,3,8,7,3]]\n",
    "arr = np.array(matrix)\n",
    "\n",
    "slicing = arr[1: , 1:4]\n",
    "slicing[:]=0\n",
    "print(\"This is view array when we change in array also change in main array = \\n\",arr)\n",
    "\n"
   ]
  },
  {
   "cell_type": "code",
   "execution_count": 18,
   "id": "5ced5373",
   "metadata": {},
   "outputs": [
    {
     "name": "stdout",
     "output_type": "stream",
     "text": [
      "This is view array when we change in array also change in main array =  [[3 5 7 7 3]\n",
      " [1 7 3 5 3]\n",
      " [8 3 8 7 3]]\n"
     ]
    }
   ],
   "source": [
    "import numpy as np\n",
    "matrix=[[3,5,7,7,3],[1,7,3,5,3],[8,3,8,7,3]]\n",
    "arr = np.array(matrix)\n",
    "slicing1 = arr[1: , 1:4].copy()\n",
    "slicing1[:]=0\n",
    "print(\"This is copy array when we change in array the main arrya does not change = \\n\",arr)"
   ]
  },
  {
   "cell_type": "code",
   "execution_count": null,
   "id": "8640f9d4",
   "metadata": {},
   "outputs": [],
   "source": []
  }
 ],
 "metadata": {
  "kernelspec": {
   "display_name": "Python 3",
   "language": "python",
   "name": "python3"
  },
  "language_info": {
   "codemirror_mode": {
    "name": "ipython",
    "version": 3
   },
   "file_extension": ".py",
   "mimetype": "text/x-python",
   "name": "python",
   "nbconvert_exporter": "python",
   "pygments_lexer": "ipython3",
   "version": "3.8.8"
  }
 },
 "nbformat": 4,
 "nbformat_minor": 5
}
